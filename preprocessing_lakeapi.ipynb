{
 "cells": [
  {
   "cell_type": "markdown",
   "id": "03bc42c0",
   "metadata": {},
   "source": []
  },
  {
   "cell_type": "code",
   "execution_count": 1,
   "id": "f8032699",
   "metadata": {},
   "outputs": [
    {
     "name": "stderr",
     "output_type": "stream",
     "text": [
      "/home/andras/miniconda3/envs/rapids-25.02/lib/python3.10/site-packages/tqdm/auto.py:21: TqdmWarning: IProgress not found. Please update jupyter and ipywidgets. See https://ipywidgets.readthedocs.io/en/stable/user_install.html\n",
      "  from .autonotebook import tqdm as notebook_tqdm\n"
     ]
    }
   ],
   "source": [
    "import datetime as dt\n",
    "import lakeapi\n",
    "import cudf\n",
    "import pandas as pd\n",
    "import numpy as np\n",
    "import os, re, datetime as dt\n",
    "import cudf, cupy as cp\n",
    "from typing import Sequence"
   ]
  },
  {
   "cell_type": "code",
   "execution_count": 2,
   "id": "70f31a86",
   "metadata": {},
   "outputs": [],
   "source": [
    "start_date = dt.datetime(2024,10,15)\n",
    "end_date  = dt.datetime(2024,10,31)\n",
    "symbol = \"BTC-USDT\" #spot\n",
    "exchange = \"BINANCE\""
   ]
  },
  {
   "cell_type": "code",
   "execution_count": 3,
   "id": "15541d9b",
   "metadata": {},
   "outputs": [
    {
     "name": "stderr",
     "output_type": "stream",
     "text": [
      "100%|██████████| 16/16 [00:03<00:00,  5.04it/s]\n"
     ]
    },
    {
     "name": "stdout",
     "output_type": "stream",
     "text": [
      "Mentés kész: data/book_btc_usdt_20241015_20241031.parquet\n"
     ]
    }
   ],
   "source": [
    "df_book = lakeapi.load_data(\n",
    "    table     = \"book\",\n",
    "    start     = start_date,\n",
    "    end       = end_date,\n",
    "    symbols   = [symbol],\n",
    "    exchanges = [exchange],\n",
    ")\n",
    "\n",
    "# # ─── 3. DINAMIKUS FÁJLNÉV ──────────────────────────────────────────────────────\n",
    "file_name = (\n",
    "    f\"data/book_{symbol.lower().replace('-', '_')}_\"\n",
    "    f\"{start_date:%Y%m%d}_{end_date:%Y%m%d}.parquet\"\n",
    ")\n",
    "\n",
    "# # ─── 4. MENTÉS PARQUET-BE cudf használatával ─────────────────────────────────────────\n",
    "df_book.to_parquet(\n",
    "    file_name,\n",
    "    engine=\"pyarrow\",    # cuDF támogatja a pyarrow és fastparquet engine-t\n",
    "    compression=\"snappy\",\n",
    ")\n",
    "\n",
    "print(f\"Mentés kész: {file_name}\")\n"
   ]
  }
 ],
 "metadata": {
  "kernelspec": {
   "display_name": "rapids-25.02",
   "language": "python",
   "name": "python3"
  },
  "language_info": {
   "codemirror_mode": {
    "name": "ipython",
    "version": 3
   },
   "file_extension": ".py",
   "mimetype": "text/x-python",
   "name": "python",
   "nbconvert_exporter": "python",
   "pygments_lexer": "ipython3",
   "version": "3.10.16"
  }
 },
 "nbformat": 4,
 "nbformat_minor": 5
}
