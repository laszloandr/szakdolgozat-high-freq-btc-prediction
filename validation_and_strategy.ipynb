{
 "cells": [
  {
   "cell_type": "code",
   "execution_count": 3,
   "id": "12669b07",
   "metadata": {},
   "outputs": [
    {
     "name": "stdout",
     "output_type": "stream",
     "text": [
      "./data_normalized exists: True\n",
      "Files in ./data_normalized: ['norm_book_btc_usdt_20250215_20250228.parquet', 'norm_book_btc_usdt_20241115_20241130.parquet', 'norm_book_btc_usdt_20250201_20250215.parquet', 'norm_book_btc_usdt_20241101_20241115.parquet', 'norm_book_btc_usdt_20240915_20240930.parquet', 'norm_book_btc_usdt_20250115_20250131.parquet', 'norm_book_btc_usdt_20241015_20241031.parquet', 'norm_book_btc_usdt_20241201_20241215.parquet', 'norm_book_btc_usdt_20241001_20241015.parquet', 'norm_book_btc_usdt_20250101_20250115.parquet', 'norm_book_btc_usdt_20240901_20240915.parquet', 'norm_book_btc_usdt_20250301_20250305.parquet', 'norm_book_btc_usdt_20250305_20250310.parquet', 'norm_book_btc_usdt_20241215_20241231.parquet']\n",
      "\n",
      "./data_raw exists: True\n",
      "Files in ./data_raw: ['book_btc_usdt_20250201_20250215.parquet', 'book_btc_usdt_20241201_20241215.parquet', 'book_btc_usdt_20250215_20250228.parquet', 'book_btc_usdt_20240101_20240115.parquet', 'book_btc_usdt_20241101_20241115.parquet', 'book_btc_usdt_20241115_20241130.parquet', 'book_btc_usdt_20240915_20240930.parquet', 'book_btc_usdt_20240901_20240915.parquet', 'book_btc_usdt_20241001_20241015.parquet', 'book_btc_usdt_20250115_20250131.parquet', 'book_btc_usdt_20250101_20250115.parquet', 'book_btc_usdt_20241215_20241231.parquet', 'book_btc_usdt_20241015_20241031.parquet', 'book_btc_usdt_20250305_20250310.parquet']\n",
      "\n"
     ]
    }
   ],
   "source": [
    "import os\n",
    "\n",
    "def report_dir(path: str):\n",
    "    \"\"\"Print whether *path* exists and (if yes) list its contents.\"\"\"\n",
    "    exists = os.path.exists(path)\n",
    "    print(f\"{path} exists: {exists}\")\n",
    "    if exists:\n",
    "        print(f\"Files in {path}: {os.listdir(path) or '[empty]'}\")\n",
    "    print()\n",
    "\n",
    "report_dir(\"./data_normalized\")\n",
    "report_dir(\"./data_raw\")"
   ]
  },
  {
   "cell_type": "markdown",
   "id": "eb0d9d86",
   "metadata": {},
   "source": [
    "### Download raw and normalized LOB data for prediction."
   ]
  },
  {
   "cell_type": "code",
   "execution_count": null,
   "id": "47142993",
   "metadata": {},
   "outputs": [
    {
     "name": "stdout",
     "output_type": "stream",
     "text": [
      "⬇️  downloading RAW → data_raw/book_btc_usdt_20250305_202503101.parquet …\n"
     ]
    },
    {
     "name": "stderr",
     "output_type": "stream",
     "text": [
      "Downloading...\n",
      "From (original): https://drive.google.com/uc?id=1PDzhgYNHmekLSUsYIw4YWebEW2gaVeV0\n",
      "From (redirected): https://drive.google.com/uc?id=1PDzhgYNHmekLSUsYIw4YWebEW2gaVeV0&confirm=t&uuid=a148a6b4-8e6e-41b7-ba89-a957aa7f0201\n",
      "To: /home/andras/btc-project/szakdolgozat-high-freq-btc-prediction/data_raw/book_btc_usdt_20250305_202503101.parquet\n",
      "100%|██████████| 487M/487M [02:29<00:00, 3.26MB/s] \n"
     ]
    },
    {
     "name": "stdout",
     "output_type": "stream",
     "text": [
      "✅ download finished.\n",
      "⬇️  downloading NORMALISED → data_normalized/norm_book_btc_usdt_20250305_202503101.parquet …\n"
     ]
    },
    {
     "name": "stderr",
     "output_type": "stream",
     "text": [
      "Downloading...\n",
      "From (original): https://drive.google.com/uc?id=1mC0EEoo5neMkAly5cnzaxo0S-S6lfsUz\n",
      "From (redirected): https://drive.google.com/uc?id=1mC0EEoo5neMkAly5cnzaxo0S-S6lfsUz&confirm=t&uuid=086c036b-c81f-4dd3-aeb2-c141903881f0\n",
      "To: /home/andras/btc-project/szakdolgozat-high-freq-btc-prediction/data_normalized/norm_book_btc_usdt_20250305_202503101.parquet\n",
      "100%|██████████| 439M/439M [02:45<00:00, 2.65MB/s] "
     ]
    },
    {
     "name": "stdout",
     "output_type": "stream",
     "text": [
      "✅ download finished.\n"
     ]
    },
    {
     "name": "stderr",
     "output_type": "stream",
     "text": [
      "\n"
     ]
    }
   ],
   "source": [
    "# 📦 one-time install (does nothing if gdown is already installed)\n",
    "!pip install -q gdown\n",
    "\n",
    "import gdown, pathlib, os\n",
    "\n",
    "# ---------------------------------------------------------------------------\n",
    "# RAW LOB  (20-level, 6 Hz)\n",
    "# ---------------------------------------------------------------------------\n",
    "raw_url   = \"https://drive.google.com/file/d/1PDzhgYNHmekLSUsYIw4YWebEW2gaVeV0/view?usp=sharing\"\n",
    "raw_path  = pathlib.Path(\"data_raw/book_btc_usdt_20250305_20250310.parquet\")\n",
    "raw_path.parent.mkdir(exist_ok=True)\n",
    "\n",
    "if raw_path.exists() and raw_path.stat().st_size > 0:\n",
    "    print(f\"✔️  {raw_path.name} already exists – download skipped.\")\n",
    "else:\n",
    "    print(f\"⬇️  downloading RAW → {raw_path} …\")\n",
    "    gdown.download(url=raw_url, output=str(raw_path), quiet=False, fuzzy=True)\n",
    "    print(\"✅ download finished.\" if raw_path.stat().st_size else \"⚠️ download failed.\")\n",
    "\n",
    "# ---------------------------------------------------------------------------\n",
    "# NORMALISED LOB  (10-level, z-scored)  – add your own Drive link below\n",
    "# ---------------------------------------------------------------------------\n",
    "norm_url  = \"https://drive.google.com/file/d/1mC0EEoo5neMkAly5cnzaxo0S-S6lfsUz/view?usp=sharing\"  # <-- put the share link here\n",
    "norm_path = pathlib.Path(\"data_normalized/norm_book_btc_usdt_20250305_20250310.parquet\")\n",
    "norm_path.parent.mkdir(exist_ok=True)\n",
    "\n",
    "if norm_path.exists() and norm_path.stat().st_size > 0:\n",
    "    print(f\"✔️  {norm_path.name} already exists – download skipped.\")\n",
    "else:\n",
    "    print(f\"⬇️  downloading NORMALISED → {norm_path} …\")\n",
    "    gdown.download(url=norm_url, output=str(norm_path), quiet=False, fuzzy=True)\n",
    "    print(\"✅ download finished.\" if norm_path.stat().st_size else \"⚠️ download failed.\")"
   ]
  },
  {
   "cell_type": "markdown",
   "id": "e3d63cea",
   "metadata": {},
   "source": [
    "## Validation pipeline"
   ]
  },
  {
   "cell_type": "code",
   "execution_count": null,
   "id": "94cc28dc",
   "metadata": {},
   "outputs": [
    {
     "name": "stdout",
     "output_type": "stream",
     "text": [
      "Using cuda\n",
      "GPU: NVIDIA RTX A500 Laptop GPU\n",
      "Memory total: 4.29 GB\n",
      "Using cuda\n",
      "GPU: NVIDIA RTX A500 Laptop GPU\n",
      "Memory total: 4.29 GB\n",
      "\n",
      "=== DeepLOB Model Validation ===\n",
      "Time period: 2025-03-05 to 2025-03-10\n",
      "Symbol: BTC-USDT\n",
      "Model: ./models/deeplob_single_parallel_f1_0.4369.pt\n",
      "Finding normalized data for BTC-USDT from 2025-03-05 00:00:00 to 2025-03-10 00:00:00...\n",
      "Found 2 normalized files:\n",
      "  norm_book_btc_usdt_20250301_20250305.parquet: 2025-03-05 00:00:00 to 2025-03-05 00:00:00\n",
      "  norm_book_btc_usdt_20250305_20250310.parquet: 2025-03-05 00:00:00 to 2025-03-10 00:00:00\n",
      "Found 2 files for processing\n",
      "File information loaded in 0.01s\n",
      "Initializing model from ./models/deeplob_single_parallel_f1_0.4369.pt...\n"
     ]
    },
    {
     "name": "stderr",
     "output_type": "stream",
     "text": [
      "/home/andras/miniconda3/envs/rapids-25.02/lib/python3.10/site-packages/torch/nn/modules/rnn.py:123: UserWarning: dropout option adds dropout after all but last recurrent layer, so non-zero dropout expects num_layers greater than 1, but got dropout=0.1 and num_layers=1\n",
      "  warnings.warn(\n"
     ]
    },
    {
     "ename": "KeyboardInterrupt",
     "evalue": "",
     "output_type": "error",
     "traceback": [
      "\u001b[0;31m---------------------------------------------------------------------------\u001b[0m",
      "\u001b[0;31mKeyboardInterrupt\u001b[0m                         Traceback (most recent call last)",
      "Cell \u001b[0;32mIn[1], line 4\u001b[0m\n\u001b[1;32m      1\u001b[0m \u001b[38;5;28;01mfrom\u001b[39;00m\u001b[38;5;250m \u001b[39m\u001b[38;5;21;01mIV_validation\u001b[39;00m\u001b[38;5;250m \u001b[39m\u001b[38;5;28;01mimport\u001b[39;00m validate_model\n\u001b[1;32m      3\u001b[0m \u001b[38;5;66;03m# A fájlban megadott alapértelmezett útvonal helyett megadjuk a helyes útvonalat\u001b[39;00m\n\u001b[0;32m----> 4\u001b[0m \u001b[43mvalidate_model\u001b[49m\u001b[43m(\u001b[49m\n\u001b[1;32m      5\u001b[0m \u001b[43m    \u001b[49m\u001b[43mstart_date\u001b[49m\u001b[38;5;241;43m=\u001b[39;49m\u001b[38;5;124;43m\"\u001b[39;49m\u001b[38;5;124;43m2025-03-05\u001b[39;49m\u001b[38;5;124;43m\"\u001b[39;49m\u001b[43m,\u001b[49m\n\u001b[1;32m      6\u001b[0m \u001b[43m    \u001b[49m\u001b[43mend_date\u001b[49m\u001b[38;5;241;43m=\u001b[39;49m\u001b[38;5;124;43m\"\u001b[39;49m\u001b[38;5;124;43m2025-03-10\u001b[39;49m\u001b[38;5;124;43m\"\u001b[39;49m\u001b[43m,\u001b[49m\n\u001b[1;32m      7\u001b[0m \u001b[43m    \u001b[49m\u001b[43mmodel_path\u001b[49m\u001b[38;5;241;43m=\u001b[39;49m\u001b[38;5;124;43m\"\u001b[39;49m\u001b[38;5;124;43m./models/deeplob_single_parallel_f1_0.4369.pt\u001b[39;49m\u001b[38;5;124;43m\"\u001b[39;49m\u001b[43m,\u001b[49m\n\u001b[1;32m      8\u001b[0m \u001b[43m    \u001b[49m\u001b[43mdata_dir\u001b[49m\u001b[38;5;241;43m=\u001b[39;49m\u001b[38;5;124;43m\"\u001b[39;49m\u001b[38;5;124;43m./data_normalized\u001b[39;49m\u001b[38;5;124;43m\"\u001b[39;49m\u001b[43m  \u001b[49m\u001b[38;5;66;43;03m# Itt megadod a helyes, relatív útvonalat\u001b[39;49;00m\n\u001b[1;32m      9\u001b[0m \u001b[43m)\u001b[49m\n",
      "File \u001b[0;32m~/btc-project/szakdolgozat-high-freq-btc-prediction/IV_validation.py:486\u001b[0m, in \u001b[0;36mvalidate_model\u001b[0;34m(start_date, end_date, model_path, symbol, depth, window, horizon, batch_size, alpha, stride, save_output, data_dir)\u001b[0m\n\u001b[1;32m    483\u001b[0m         \u001b[38;5;28;01mreturn\u001b[39;00m \u001b[38;5;28;01mNone\u001b[39;00m, \u001b[38;5;28;01mNone\u001b[39;00m\n\u001b[1;32m    485\u001b[0m \u001b[38;5;66;03m# Validator inicializálása\u001b[39;00m\n\u001b[0;32m--> 486\u001b[0m validator \u001b[38;5;241m=\u001b[39m \u001b[43mModelValidator\u001b[49m\u001b[43m(\u001b[49m\n\u001b[1;32m    487\u001b[0m \u001b[43m    \u001b[49m\u001b[43mfile_paths\u001b[49m\u001b[38;5;241;43m=\u001b[39;49m\u001b[43mfile_infos\u001b[49m\u001b[43m,\u001b[49m\n\u001b[1;32m    488\u001b[0m \u001b[43m    \u001b[49m\u001b[43mmodel_path\u001b[49m\u001b[38;5;241;43m=\u001b[39;49m\u001b[43mmodel_path\u001b[49m\u001b[43m,\u001b[49m\n\u001b[1;32m    489\u001b[0m \u001b[43m    \u001b[49m\u001b[43mdepth\u001b[49m\u001b[38;5;241;43m=\u001b[39;49m\u001b[43mdepth\u001b[49m\u001b[43m,\u001b[49m\n\u001b[1;32m    490\u001b[0m \u001b[43m    \u001b[49m\u001b[43mwindow\u001b[49m\u001b[38;5;241;43m=\u001b[39;49m\u001b[43mwindow\u001b[49m\u001b[43m,\u001b[49m\n\u001b[1;32m    491\u001b[0m \u001b[43m    \u001b[49m\u001b[43mhorizon\u001b[49m\u001b[38;5;241;43m=\u001b[39;49m\u001b[43mhorizon\u001b[49m\u001b[43m,\u001b[49m\n\u001b[1;32m    492\u001b[0m \u001b[43m    \u001b[49m\u001b[43mbatch_size\u001b[49m\u001b[38;5;241;43m=\u001b[39;49m\u001b[43mbatch_size\u001b[49m\u001b[43m,\u001b[49m\n\u001b[1;32m    493\u001b[0m \u001b[43m    \u001b[49m\u001b[43malpha\u001b[49m\u001b[38;5;241;43m=\u001b[39;49m\u001b[43malpha\u001b[49m\u001b[43m,\u001b[49m\n\u001b[1;32m    494\u001b[0m \u001b[43m    \u001b[49m\u001b[43mstride\u001b[49m\u001b[38;5;241;43m=\u001b[39;49m\u001b[43mstride\u001b[49m\n\u001b[1;32m    495\u001b[0m \u001b[43m\u001b[49m\u001b[43m)\u001b[49m\n\u001b[1;32m    497\u001b[0m \u001b[38;5;66;03m# Validálás futtatása\u001b[39;00m\n\u001b[1;32m    498\u001b[0m metrics \u001b[38;5;241m=\u001b[39m validator\u001b[38;5;241m.\u001b[39mvalidate()\n",
      "File \u001b[0;32m~/btc-project/szakdolgozat-high-freq-btc-prediction/IV_validation.py:77\u001b[0m, in \u001b[0;36mModelValidator.__init__\u001b[0;34m(self, file_paths, model_path, depth, window, horizon, batch_size, alpha, stride)\u001b[0m\n\u001b[1;32m     75\u001b[0m \u001b[38;5;66;03m# Inicializáljuk a modellt\u001b[39;00m\n\u001b[1;32m     76\u001b[0m \u001b[38;5;28mprint\u001b[39m(\u001b[38;5;124mf\u001b[39m\u001b[38;5;124m\"\u001b[39m\u001b[38;5;124mInitializing model from \u001b[39m\u001b[38;5;132;01m{\u001b[39;00mmodel_path\u001b[38;5;132;01m}\u001b[39;00m\u001b[38;5;124m...\u001b[39m\u001b[38;5;124m\"\u001b[39m)\n\u001b[0;32m---> 77\u001b[0m \u001b[38;5;28mself\u001b[39m\u001b[38;5;241m.\u001b[39mmodel \u001b[38;5;241m=\u001b[39m \u001b[43mDeepLOB\u001b[49m\u001b[43m(\u001b[49m\u001b[43mdepth\u001b[49m\u001b[38;5;241;43m=\u001b[39;49m\u001b[43mdepth\u001b[49m\u001b[43m)\u001b[49m\u001b[38;5;241;43m.\u001b[39;49m\u001b[43mto\u001b[49m\u001b[43m(\u001b[49m\n\u001b[1;32m     78\u001b[0m \u001b[43m    \u001b[49m\u001b[43mdevice\u001b[49m\u001b[43m,\u001b[49m\u001b[43m \u001b[49m\n\u001b[1;32m     79\u001b[0m \u001b[43m    \u001b[49m\u001b[43mmemory_format\u001b[49m\u001b[38;5;241;43m=\u001b[39;49m\u001b[43mtorch\u001b[49m\u001b[38;5;241;43m.\u001b[39;49m\u001b[43mchannels_last\u001b[49m\n\u001b[1;32m     80\u001b[0m \u001b[43m\u001b[49m\u001b[43m)\u001b[49m\n\u001b[1;32m     82\u001b[0m \u001b[38;5;66;03m# Betöltjük a modell súlyait - explicit weights_only=False a kompatibilitás miatt\u001b[39;00m\n\u001b[1;32m     83\u001b[0m \u001b[38;5;28;01mtry\u001b[39;00m:\n\u001b[1;32m     84\u001b[0m     \u001b[38;5;66;03m# Először próbáljuk a biztonságosabb módban\u001b[39;00m\n",
      "File \u001b[0;32m~/miniconda3/envs/rapids-25.02/lib/python3.10/site-packages/torch/nn/modules/module.py:1343\u001b[0m, in \u001b[0;36mModule.to\u001b[0;34m(self, *args, **kwargs)\u001b[0m\n\u001b[1;32m   1340\u001b[0m         \u001b[38;5;28;01melse\u001b[39;00m:\n\u001b[1;32m   1341\u001b[0m             \u001b[38;5;28;01mraise\u001b[39;00m\n\u001b[0;32m-> 1343\u001b[0m \u001b[38;5;28;01mreturn\u001b[39;00m \u001b[38;5;28;43mself\u001b[39;49m\u001b[38;5;241;43m.\u001b[39;49m\u001b[43m_apply\u001b[49m\u001b[43m(\u001b[49m\u001b[43mconvert\u001b[49m\u001b[43m)\u001b[49m\n",
      "File \u001b[0;32m~/miniconda3/envs/rapids-25.02/lib/python3.10/site-packages/torch/nn/modules/module.py:903\u001b[0m, in \u001b[0;36mModule._apply\u001b[0;34m(self, fn, recurse)\u001b[0m\n\u001b[1;32m    901\u001b[0m \u001b[38;5;28;01mif\u001b[39;00m recurse:\n\u001b[1;32m    902\u001b[0m     \u001b[38;5;28;01mfor\u001b[39;00m module \u001b[38;5;129;01min\u001b[39;00m \u001b[38;5;28mself\u001b[39m\u001b[38;5;241m.\u001b[39mchildren():\n\u001b[0;32m--> 903\u001b[0m         \u001b[43mmodule\u001b[49m\u001b[38;5;241;43m.\u001b[39;49m\u001b[43m_apply\u001b[49m\u001b[43m(\u001b[49m\u001b[43mfn\u001b[49m\u001b[43m)\u001b[49m\n\u001b[1;32m    905\u001b[0m \u001b[38;5;28;01mdef\u001b[39;00m\u001b[38;5;250m \u001b[39m\u001b[38;5;21mcompute_should_use_set_data\u001b[39m(tensor, tensor_applied):\n\u001b[1;32m    906\u001b[0m     \u001b[38;5;28;01mif\u001b[39;00m torch\u001b[38;5;241m.\u001b[39m_has_compatible_shallow_copy_type(tensor, tensor_applied):\n\u001b[1;32m    907\u001b[0m         \u001b[38;5;66;03m# If the new tensor has compatible tensor type as the existing tensor,\u001b[39;00m\n\u001b[1;32m    908\u001b[0m         \u001b[38;5;66;03m# the current behavior is to change the tensor in-place using `.data =`,\u001b[39;00m\n\u001b[0;32m   (...)\u001b[0m\n\u001b[1;32m    913\u001b[0m         \u001b[38;5;66;03m# global flag to let the user control whether they want the future\u001b[39;00m\n\u001b[1;32m    914\u001b[0m         \u001b[38;5;66;03m# behavior of overwriting the existing tensor or not.\u001b[39;00m\n",
      "File \u001b[0;32m~/miniconda3/envs/rapids-25.02/lib/python3.10/site-packages/torch/nn/modules/module.py:903\u001b[0m, in \u001b[0;36mModule._apply\u001b[0;34m(self, fn, recurse)\u001b[0m\n\u001b[1;32m    901\u001b[0m \u001b[38;5;28;01mif\u001b[39;00m recurse:\n\u001b[1;32m    902\u001b[0m     \u001b[38;5;28;01mfor\u001b[39;00m module \u001b[38;5;129;01min\u001b[39;00m \u001b[38;5;28mself\u001b[39m\u001b[38;5;241m.\u001b[39mchildren():\n\u001b[0;32m--> 903\u001b[0m         \u001b[43mmodule\u001b[49m\u001b[38;5;241;43m.\u001b[39;49m\u001b[43m_apply\u001b[49m\u001b[43m(\u001b[49m\u001b[43mfn\u001b[49m\u001b[43m)\u001b[49m\n\u001b[1;32m    905\u001b[0m \u001b[38;5;28;01mdef\u001b[39;00m\u001b[38;5;250m \u001b[39m\u001b[38;5;21mcompute_should_use_set_data\u001b[39m(tensor, tensor_applied):\n\u001b[1;32m    906\u001b[0m     \u001b[38;5;28;01mif\u001b[39;00m torch\u001b[38;5;241m.\u001b[39m_has_compatible_shallow_copy_type(tensor, tensor_applied):\n\u001b[1;32m    907\u001b[0m         \u001b[38;5;66;03m# If the new tensor has compatible tensor type as the existing tensor,\u001b[39;00m\n\u001b[1;32m    908\u001b[0m         \u001b[38;5;66;03m# the current behavior is to change the tensor in-place using `.data =`,\u001b[39;00m\n\u001b[0;32m   (...)\u001b[0m\n\u001b[1;32m    913\u001b[0m         \u001b[38;5;66;03m# global flag to let the user control whether they want the future\u001b[39;00m\n\u001b[1;32m    914\u001b[0m         \u001b[38;5;66;03m# behavior of overwriting the existing tensor or not.\u001b[39;00m\n",
      "File \u001b[0;32m~/miniconda3/envs/rapids-25.02/lib/python3.10/site-packages/torch/nn/modules/module.py:930\u001b[0m, in \u001b[0;36mModule._apply\u001b[0;34m(self, fn, recurse)\u001b[0m\n\u001b[1;32m    926\u001b[0m \u001b[38;5;66;03m# Tensors stored in modules are graph leaves, and we don't want to\u001b[39;00m\n\u001b[1;32m    927\u001b[0m \u001b[38;5;66;03m# track autograd history of `param_applied`, so we have to use\u001b[39;00m\n\u001b[1;32m    928\u001b[0m \u001b[38;5;66;03m# `with torch.no_grad():`\u001b[39;00m\n\u001b[1;32m    929\u001b[0m \u001b[38;5;28;01mwith\u001b[39;00m torch\u001b[38;5;241m.\u001b[39mno_grad():\n\u001b[0;32m--> 930\u001b[0m     param_applied \u001b[38;5;241m=\u001b[39m \u001b[43mfn\u001b[49m\u001b[43m(\u001b[49m\u001b[43mparam\u001b[49m\u001b[43m)\u001b[49m\n\u001b[1;32m    931\u001b[0m p_should_use_set_data \u001b[38;5;241m=\u001b[39m compute_should_use_set_data(param, param_applied)\n\u001b[1;32m    933\u001b[0m \u001b[38;5;66;03m# subclasses may have multiple child tensors so we need to use swap_tensors\u001b[39;00m\n",
      "File \u001b[0;32m~/miniconda3/envs/rapids-25.02/lib/python3.10/site-packages/torch/nn/modules/module.py:1323\u001b[0m, in \u001b[0;36mModule.to.<locals>.convert\u001b[0;34m(t)\u001b[0m\n\u001b[1;32m   1321\u001b[0m \u001b[38;5;28;01mtry\u001b[39;00m:\n\u001b[1;32m   1322\u001b[0m     \u001b[38;5;28;01mif\u001b[39;00m convert_to_format \u001b[38;5;129;01mis\u001b[39;00m \u001b[38;5;129;01mnot\u001b[39;00m \u001b[38;5;28;01mNone\u001b[39;00m \u001b[38;5;129;01mand\u001b[39;00m t\u001b[38;5;241m.\u001b[39mdim() \u001b[38;5;129;01min\u001b[39;00m (\u001b[38;5;241m4\u001b[39m, \u001b[38;5;241m5\u001b[39m):\n\u001b[0;32m-> 1323\u001b[0m         \u001b[38;5;28;01mreturn\u001b[39;00m \u001b[43mt\u001b[49m\u001b[38;5;241;43m.\u001b[39;49m\u001b[43mto\u001b[49m\u001b[43m(\u001b[49m\n\u001b[1;32m   1324\u001b[0m \u001b[43m            \u001b[49m\u001b[43mdevice\u001b[49m\u001b[43m,\u001b[49m\n\u001b[1;32m   1325\u001b[0m \u001b[43m            \u001b[49m\u001b[43mdtype\u001b[49m\u001b[43m \u001b[49m\u001b[38;5;28;43;01mif\u001b[39;49;00m\u001b[43m \u001b[49m\u001b[43mt\u001b[49m\u001b[38;5;241;43m.\u001b[39;49m\u001b[43mis_floating_point\u001b[49m\u001b[43m(\u001b[49m\u001b[43m)\u001b[49m\u001b[43m \u001b[49m\u001b[38;5;129;43;01mor\u001b[39;49;00m\u001b[43m \u001b[49m\u001b[43mt\u001b[49m\u001b[38;5;241;43m.\u001b[39;49m\u001b[43mis_complex\u001b[49m\u001b[43m(\u001b[49m\u001b[43m)\u001b[49m\u001b[43m \u001b[49m\u001b[38;5;28;43;01melse\u001b[39;49;00m\u001b[43m \u001b[49m\u001b[38;5;28;43;01mNone\u001b[39;49;00m\u001b[43m,\u001b[49m\n\u001b[1;32m   1326\u001b[0m \u001b[43m            \u001b[49m\u001b[43mnon_blocking\u001b[49m\u001b[43m,\u001b[49m\n\u001b[1;32m   1327\u001b[0m \u001b[43m            \u001b[49m\u001b[43mmemory_format\u001b[49m\u001b[38;5;241;43m=\u001b[39;49m\u001b[43mconvert_to_format\u001b[49m\u001b[43m,\u001b[49m\n\u001b[1;32m   1328\u001b[0m \u001b[43m        \u001b[49m\u001b[43m)\u001b[49m\n\u001b[1;32m   1329\u001b[0m     \u001b[38;5;28;01mreturn\u001b[39;00m t\u001b[38;5;241m.\u001b[39mto(\n\u001b[1;32m   1330\u001b[0m         device,\n\u001b[1;32m   1331\u001b[0m         dtype \u001b[38;5;28;01mif\u001b[39;00m t\u001b[38;5;241m.\u001b[39mis_floating_point() \u001b[38;5;129;01mor\u001b[39;00m t\u001b[38;5;241m.\u001b[39mis_complex() \u001b[38;5;28;01melse\u001b[39;00m \u001b[38;5;28;01mNone\u001b[39;00m,\n\u001b[1;32m   1332\u001b[0m         non_blocking,\n\u001b[1;32m   1333\u001b[0m     )\n\u001b[1;32m   1334\u001b[0m \u001b[38;5;28;01mexcept\u001b[39;00m \u001b[38;5;167;01mNotImplementedError\u001b[39;00m \u001b[38;5;28;01mas\u001b[39;00m e:\n",
      "\u001b[0;31mKeyboardInterrupt\u001b[0m: "
     ]
    }
   ],
   "source": [
    "from IV_validation import validate_model\n",
    "\n",
    "validate_model(\n",
    "    start_date=\"2025-03-05\",\n",
    "    end_date=\"2025-03-10\",\n",
    "    model_path=\"./models/deeplob_single_parallel_f1_0.4369.pt\",\n",
    "    data_dir=\"./data_normalized\"\n",
    ")"
   ]
  },
  {
   "cell_type": "markdown",
   "id": "3cf48528",
   "metadata": {},
   "source": [
    "# Trading strategy & visualization"
   ]
  },
  {
   "cell_type": "code",
   "execution_count": 3,
   "id": "c75a2368",
   "metadata": {},
   "outputs": [
    {
     "name": "stdout",
     "output_type": "stream",
     "text": [
      "▶ Using prediction file  : ./results/deeplob/predictions_deeplob_single_parallel_f1_0_20250305_20250310.parquet\n",
      "▶ Signal-threshold (N)   : 3\n",
      "Loading predictions from ./results/deeplob/predictions_deeplob_single_parallel_f1_0_20250305_20250310.parquet\n",
      "Loaded data shape: (2784801, 4)\n",
      "Time range: 2025-03-05 00:00:00.980656640 - 2025-03-09 23:59:27.416447488\n",
      "Preprocessing data...\n",
      "Data preprocessing complete.\n",
      "Generating trades with signal threshold: 3...\n",
      "Generated 96066 trades\n",
      "\n",
      "Trading Strategy Results:\n",
      "========================\n",
      "Total trades: 96066\n",
      "Winning trades: 27922 (29.07%)\n",
      "Simple-sum return: 10.26%\n",
      "Average return per trade: 0.00%\n",
      "Average trade duration: 3.03 seconds\n",
      "Median trade duration: 2.10 seconds\n",
      "Sharpe ratio: 7.43\n",
      "Maximum drawdown: -8.19%\n",
      "Buy and Hold Return: -7.59%\n",
      "Strategy Outperformance: 17.84%\n",
      "Total number of trades: 96066\n",
      "Filtered to 1463 trades in date range (2025-03-09 22:00:01 to 2025-03-09 23:59:00)\n",
      "Preparation time: 0.01s\n",
      "Simple-sum return: 10.26% (matches analyze_performance)\n",
      "Interactive chart with trade list saved: ./results/visualizations/trading_strategy_signal3_2025-03-09_2200_2025-03-09_2359.html (0.18s)\n",
      "✅ Chart saved to: ./results/visualizations/trading_strategy_signal3_2025-03-09_2200_2025-03-09_2359.html\n"
     ]
    }
   ],
   "source": [
    "import os\n",
    "# ---------------------------------------------------------------------------\n",
    "# 🛈  Interactive trading-strategy visualiser\n",
    "#     (loads DeepLOB predictions + raw prices and overlays the buy/sell logic)\n",
    "# ---------------------------------------------------------------------------\n",
    "from V_trading_strategy_visualization import load_and_visualize_strategy\n",
    "\n",
    "# ── 1. User-configurable parameters ─────────────────────────────────────────\n",
    "start_date       = \"20250305\"   # first day (YYYYMMDD) - for prediction file\n",
    "end_date         = \"20250310\"   # last  day (YYYYMMDD) - for prediction file\n",
    "signal_threshold = 3            # consecutive identical signals required\n",
    "                                # to open / close a position\n",
    "\n",
    "# Visualization date range (this will be shown in the chart)\n",
    "vis_start_date = '2025-03-09 22:00:01'\n",
    "vis_end_date = '2025-03-09 23:59:00'\n",
    "\n",
    "# Format vis dates for filename (YYYYMMDD_HHMMSS format)\n",
    "vis_start_fmt = vis_start_date.replace(' ', '_').replace(':', '')[:15]\n",
    "vis_end_fmt = vis_end_date.replace(' ', '_').replace(':', '')[:15]\n",
    "\n",
    "# Path to DeepLOB prediction export\n",
    "predictions_file = (\n",
    "    \"./results/deeplob/\"\n",
    "    f\"predictions_deeplob_single_parallel_f1_0_{start_date}_{end_date}.parquet\"\n",
    ")\n",
    "print(f\"▶ Using prediction file  : {predictions_file}\")\n",
    "print(f\"▶ Signal-threshold (N)   : {signal_threshold}\")\n",
    "\n",
    "# ── 2. Output folder for HTML charts ────────────────────────────────────────\n",
    "output_dir = \"./results/visualizations\"\n",
    "os.makedirs(output_dir, exist_ok=True)\n",
    "\n",
    "html_path = os.path.join(\n",
    "    output_dir,\n",
    "    f\"trading_strategy_signal{signal_threshold}_{vis_start_fmt}_{vis_end_fmt}.html\"\n",
    ")\n",
    "\n",
    "# ── 3. Generate the plot with date range filtering ───────────────────────────\n",
    "fig = load_and_visualize_strategy(\n",
    "    predictions_file = predictions_file,\n",
    "    signal_threshold = signal_threshold,\n",
    "    save_path        = html_path,      # interactive Plotly HTML\n",
    "    date_range=(vis_start_date, vis_end_date)\n",
    ")\n",
    "\n",
    "print(f\"✅ Chart saved to: {html_path}\")"
   ]
  },
  {
   "cell_type": "code",
   "execution_count": null,
   "id": "494c078a",
   "metadata": {},
   "outputs": [],
   "source": []
  }
 ],
 "metadata": {
  "kernelspec": {
   "display_name": "rapids-25.02",
   "language": "python",
   "name": "python3"
  },
  "language_info": {
   "codemirror_mode": {
    "name": "ipython",
    "version": 3
   },
   "file_extension": ".py",
   "mimetype": "text/x-python",
   "name": "python",
   "nbconvert_exporter": "python",
   "pygments_lexer": "ipython3",
   "version": "3.10.16"
  }
 },
 "nbformat": 4,
 "nbformat_minor": 5
}
