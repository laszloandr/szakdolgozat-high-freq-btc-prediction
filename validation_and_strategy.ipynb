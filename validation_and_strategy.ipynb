{
 "cells": [
  {
   "cell_type": "code",
   "execution_count": 5,
   "id": "12669b07",
   "metadata": {},
   "outputs": [
    {
     "name": "stdout",
     "output_type": "stream",
     "text": [
      "data_normalized directory exists: True\n",
      "Files in data_normalized: ['norm_book_btc_usdt_20250215_20250228.parquet', 'norm_book_btc_usdt_20241115_20241130.parquet', 'norm_book_btc_usdt_20250201_20250215.parquet', 'norm_book_btc_usdt_20241101_20241115.parquet', 'norm_book_btc_usdt_20240915_20240930.parquet', 'norm_book_btc_usdt_20250115_20250131.parquet', 'norm_book_btc_usdt_20241015_20241031.parquet', 'norm_book_btc_usdt_20241201_20241215.parquet', 'norm_book_btc_usdt_20241001_20241015.parquet', 'norm_book_btc_usdt_20250101_20250115.parquet', 'norm_book_btc_usdt_20240901_20240915.parquet', 'norm_book_btc_usdt_20250301_20250305.parquet', 'norm_book_btc_usdt_20250305_20250310.parquet', 'norm_book_btc_usdt_20241215_20241231.parquet']\n"
     ]
    }
   ],
   "source": [
    "import os\n",
    "print(f\"data_normalized directory exists: {os.path.exists('./data_normalized')}\")\n",
    "print(f\"Files in data_normalized: {os.listdir('./data_normalized') if os.path.exists('./data_normalized') else 'Directory does not exist'}\")"
   ]
  },
  {
   "cell_type": "code",
   "execution_count": 1,
   "id": "94cc28dc",
   "metadata": {},
   "outputs": [
    {
     "name": "stdout",
     "output_type": "stream",
     "text": [
      "Using cuda\n",
      "GPU: NVIDIA RTX A500 Laptop GPU\n",
      "Memory total: 4.29 GB\n",
      "Using cuda\n",
      "GPU: NVIDIA RTX A500 Laptop GPU\n",
      "Memory total: 4.29 GB\n",
      "\n",
      "=== DeepLOB Model Validation ===\n",
      "Time period: 2025-03-05 to 2025-03-10\n",
      "Symbol: BTC-USDT\n",
      "Model: ./models/deeplob_single_parallel_f1_0.4369.pt\n",
      "Finding normalized data for BTC-USDT from 2025-03-05 00:00:00 to 2025-03-10 00:00:00...\n",
      "Found 2 normalized files:\n",
      "  norm_book_btc_usdt_20250301_20250305.parquet: 2025-03-05 00:00:00 to 2025-03-05 00:00:00\n",
      "  norm_book_btc_usdt_20250305_20250310.parquet: 2025-03-05 00:00:00 to 2025-03-10 00:00:00\n",
      "Found 2 files for processing\n",
      "File information loaded in 0.01s\n",
      "Initializing model from ./models/deeplob_single_parallel_f1_0.4369.pt...\n"
     ]
    },
    {
     "name": "stderr",
     "output_type": "stream",
     "text": [
      "/home/andras/miniconda3/envs/rapids-25.02/lib/python3.10/site-packages/torch/nn/modules/rnn.py:123: UserWarning: dropout option adds dropout after all but last recurrent layer, so non-zero dropout expects num_layers greater than 1, but got dropout=0.1 and num_layers=1\n",
      "  warnings.warn(\n"
     ]
    },
    {
     "name": "stdout",
     "output_type": "stream",
     "text": [
      "Biztonságos betöltés sikertelen, teljes objektum betöltése: Weights only load failed. This file can still be loaded, to do so you have two options, \u001b[1mdo those steps only if you trust the source of the checkpoint\u001b[0m. \n",
      "\t(1) In PyTorch 2.6, we changed the default value of the `weights_only` argument in `torch.load` from `False` to `True`. Re-running `torch.load` with `weights_only` set to `False` will likely succeed, but it can result in arbitrary code execution. Do it only if you got the file from a trusted source.\n",
      "\t(2) Alternatively, to load with `weights_only=True` please check the recommended steps in the following error message.\n",
      "\tWeightsUnpickler error: Unsupported global: GLOBAL numpy._core.multiarray.scalar was not an allowed global by default. Please use `torch.serialization.add_safe_globals([scalar])` or the `torch.serialization.safe_globals([scalar])` context manager to allowlist this global if you trust this class/function.\n",
      "\n",
      "Check the documentation of torch.load to learn more about types accepted by default with weights_only https://pytorch.org/docs/stable/generated/torch.load.html.\n",
      "Model loaded successfully. Original training metrics:\n",
      "- Directional F1: 0.4369\n",
      "- Global F1: 0.4369\n",
      "- Trained for 1 epochs\n",
      "\n",
      "Loading data for validation...\n",
      "Reading normalized file: norm_book_btc_usdt_20250301_20250305.parquet\n",
      "Time range: 2025-03-05 00:00:00 to 2025-03-05 00:00:00\n",
      "No normalized data found in time range 2025-03-05 00:00:00 to 2025-03-05 00:00:00\n",
      "Reading normalized file: norm_book_btc_usdt_20250305_20250310.parquet\n",
      "Time range: 2025-03-05 00:00:00 to 2025-03-10 00:00:00\n",
      "Loaded 2785001 normalized records\n",
      "Raw file not found: szakdolgozat-high-freq-btc-prediction/data_raw/book_btc_usdt_20250305_20250310.parquet\n",
      "\n",
      "Total normalized data points loaded: 2785001\n",
      "Warning: No raw price data loaded\n",
      "Time range: 2025-03-05 00:00:00.980656640 to 2025-03-09 23:59:59.917122560\n",
      "\n",
      "Creating GPU test dataloader...\n",
      "Saving filtered data to temporary file: szakdolgozat-high-freq-btc-prediction/temp/filtered_data_1749506836.parquet\n",
      "Creating GPU data loaders with 1 files...\n",
      "Initializing GPU Cached Dataset on cuda...\n",
      "Loading 1 files directly to GPU...\n",
      "Processing file 1/1: filtered_data_1749506836.parquet\n",
      "File loaded in 0.19s\n",
      "Converting to tensors and moving to GPU...\n",
      "Tensor conversion completed in 0.41s\n",
      "Features shape: torch.Size([2785001, 40]), Mid price shape: torch.Size([2785001])\n",
      "\n",
      "Concatenating all data...\n",
      "Concatenation completed in 0.02s\n",
      "Final shapes - Features: torch.Size([2785001, 40]), Mid prices: torch.Size([2785001])\n",
      "All data loaded to GPU in 0.62s\n",
      "Preparing sample indices...\n",
      "Created 2784801 sample indices\n",
      "GPU Dataset initialized. Features shape: torch.Size([2785001, 40]), Mid price shape: torch.Size([2785001])\n",
      "Total samples: 2784801\n",
      "\n",
      "Splitting dataset: 0 training samples, 2784801 validation samples\n",
      "GPU DataLoaders created in 1.13s\n",
      "Train loader: 0 batches, Val loader: 43513 batches\n",
      "Temporary file removed: szakdolgozat-high-freq-btc-prediction/temp/filtered_data_1749506836.parquet\n",
      "Starting validation phase...\n",
      "Validation batch 0/43513\n",
      "Validation batch 20/43513\n",
      "Validation batch 40/43513\n",
      "Validation batch 60/43513\n",
      "Validation batch 80/43513\n",
      "Validation batch 100/43513\n",
      "Validation batch 120/43513\n",
      "Validation batch 140/43513\n",
      "Validation batch 160/43513\n",
      "Validation batch 180/43513\n",
      "Validation batch 200/43513\n",
      "Validation batch 220/43513\n",
      "Validation batch 240/43513\n",
      "Validation batch 260/43513\n",
      "Validation batch 280/43513\n",
      "Validation batch 300/43513\n",
      "Validation batch 320/43513\n",
      "Validation batch 340/43513\n",
      "Validation batch 360/43513\n",
      "Validation batch 380/43513\n",
      "Validation batch 400/43513\n",
      "Validation batch 420/43513\n",
      "Validation batch 440/43513\n",
      "Validation batch 460/43513\n",
      "Validation batch 480/43513\n",
      "Validation batch 500/43513\n",
      "Validation batch 520/43513\n",
      "Validation batch 540/43513\n"
     ]
    },
    {
     "ename": "KeyboardInterrupt",
     "evalue": "",
     "output_type": "error",
     "traceback": [
      "\u001b[0;31m---------------------------------------------------------------------------\u001b[0m",
      "\u001b[0;31mKeyboardInterrupt\u001b[0m                         Traceback (most recent call last)",
      "Cell \u001b[0;32mIn[1], line 4\u001b[0m\n\u001b[1;32m      1\u001b[0m \u001b[38;5;28;01mfrom\u001b[39;00m\u001b[38;5;250m \u001b[39m\u001b[38;5;21;01mIV_validation\u001b[39;00m\u001b[38;5;250m \u001b[39m\u001b[38;5;28;01mimport\u001b[39;00m validate_model\n\u001b[1;32m      3\u001b[0m \u001b[38;5;66;03m# A fájlban megadott alapértelmezett útvonal helyett megadjuk a helyes útvonalat\u001b[39;00m\n\u001b[0;32m----> 4\u001b[0m \u001b[43mvalidate_model\u001b[49m\u001b[43m(\u001b[49m\n\u001b[1;32m      5\u001b[0m \u001b[43m    \u001b[49m\u001b[43mstart_date\u001b[49m\u001b[38;5;241;43m=\u001b[39;49m\u001b[38;5;124;43m\"\u001b[39;49m\u001b[38;5;124;43m2025-03-05\u001b[39;49m\u001b[38;5;124;43m\"\u001b[39;49m\u001b[43m,\u001b[49m\n\u001b[1;32m      6\u001b[0m \u001b[43m    \u001b[49m\u001b[43mend_date\u001b[49m\u001b[38;5;241;43m=\u001b[39;49m\u001b[38;5;124;43m\"\u001b[39;49m\u001b[38;5;124;43m2025-03-10\u001b[39;49m\u001b[38;5;124;43m\"\u001b[39;49m\u001b[43m,\u001b[49m\n\u001b[1;32m      7\u001b[0m \u001b[43m    \u001b[49m\u001b[43mmodel_path\u001b[49m\u001b[38;5;241;43m=\u001b[39;49m\u001b[38;5;124;43m\"\u001b[39;49m\u001b[38;5;124;43m./models/deeplob_single_parallel_f1_0.4369.pt\u001b[39;49m\u001b[38;5;124;43m\"\u001b[39;49m\u001b[43m,\u001b[49m\n\u001b[1;32m      8\u001b[0m \u001b[43m    \u001b[49m\u001b[43mdata_dir\u001b[49m\u001b[38;5;241;43m=\u001b[39;49m\u001b[38;5;124;43m\"\u001b[39;49m\u001b[38;5;124;43m./data_normalized\u001b[39;49m\u001b[38;5;124;43m\"\u001b[39;49m\u001b[43m  \u001b[49m\u001b[38;5;66;43;03m# Itt megadod a helyes, relatív útvonalat\u001b[39;49;00m\n\u001b[1;32m      9\u001b[0m \u001b[43m)\u001b[49m\n",
      "File \u001b[0;32m~/btc-project/szakdolgozat-high-freq-btc-prediction/IV_validation.py:498\u001b[0m, in \u001b[0;36mvalidate_model\u001b[0;34m(start_date, end_date, model_path, symbol, depth, window, horizon, batch_size, alpha, stride, save_output, data_dir)\u001b[0m\n\u001b[1;32m    486\u001b[0m validator \u001b[38;5;241m=\u001b[39m ModelValidator(\n\u001b[1;32m    487\u001b[0m     file_paths\u001b[38;5;241m=\u001b[39mfile_infos,\n\u001b[1;32m    488\u001b[0m     model_path\u001b[38;5;241m=\u001b[39mmodel_path,\n\u001b[0;32m   (...)\u001b[0m\n\u001b[1;32m    494\u001b[0m     stride\u001b[38;5;241m=\u001b[39mstride\n\u001b[1;32m    495\u001b[0m )\n\u001b[1;32m    497\u001b[0m \u001b[38;5;66;03m# Validálás futtatása\u001b[39;00m\n\u001b[0;32m--> 498\u001b[0m metrics \u001b[38;5;241m=\u001b[39m \u001b[43mvalidator\u001b[49m\u001b[38;5;241;43m.\u001b[39;49m\u001b[43mvalidate\u001b[49m\u001b[43m(\u001b[49m\u001b[43m)\u001b[49m\n\u001b[1;32m    500\u001b[0m \u001b[38;5;66;03m# Eredmények kiírása\u001b[39;00m\n\u001b[1;32m    501\u001b[0m \u001b[38;5;28mprint\u001b[39m(\u001b[38;5;124m\"\u001b[39m\u001b[38;5;130;01m\\n\u001b[39;00m\u001b[38;5;124m=== Validation Results ===\u001b[39m\u001b[38;5;124m\"\u001b[39m)\n",
      "File \u001b[0;32m~/btc-project/szakdolgozat-high-freq-btc-prediction/IV_validation.py:225\u001b[0m, in \u001b[0;36mModelValidator.validate\u001b[0;34m(self)\u001b[0m\n\u001b[1;32m    223\u001b[0m logits \u001b[38;5;241m=\u001b[39m \u001b[38;5;28mself\u001b[39m\u001b[38;5;241m.\u001b[39mmodel(xb)\n\u001b[1;32m    224\u001b[0m loss \u001b[38;5;241m=\u001b[39m \u001b[38;5;28mself\u001b[39m\u001b[38;5;241m.\u001b[39mcriterion(logits, yb)\n\u001b[0;32m--> 225\u001b[0m test_loss \u001b[38;5;241m+\u001b[39m\u001b[38;5;241m=\u001b[39m \u001b[43mloss\u001b[49m\u001b[38;5;241;43m.\u001b[39;49m\u001b[43mitem\u001b[49m\u001b[43m(\u001b[49m\u001b[43m)\u001b[49m\n\u001b[1;32m    226\u001b[0m batch_preds \u001b[38;5;241m=\u001b[39m logits\u001b[38;5;241m.\u001b[39margmax(\u001b[38;5;241m1\u001b[39m)\n\u001b[1;32m    228\u001b[0m \u001b[38;5;66;03m# Eredmények gyűjtése\u001b[39;00m\n",
      "\u001b[0;31mKeyboardInterrupt\u001b[0m: "
     ]
    }
   ],
   "source": [
    "from IV_validation import validate_model\n",
    "\n",
    "# A fájlban megadott alapértelmezett útvonal helyett megadjuk a helyes útvonalat\n",
    "validate_model(\n",
    "    start_date=\"2025-03-05\",\n",
    "    end_date=\"2025-03-10\",\n",
    "    model_path=\"./models/deeplob_single_parallel_f1_0.4369.pt\",\n",
    "    data_dir=\"./data_normalized\"  # Itt megadod a helyes, relatív útvonalat\n",
    ")"
   ]
  },
  {
   "cell_type": "markdown",
   "id": "3cf48528",
   "metadata": {},
   "source": [
    "# Trading strategy & visualization"
   ]
  },
  {
   "cell_type": "code",
   "execution_count": null,
   "id": "c75a2368",
   "metadata": {},
   "outputs": [
    {
     "name": "stdout",
     "output_type": "stream",
     "text": [
      "Using prediction file: ./results/deeplob/predictions_deeplob_single_parallel_f1_0_20250305_20250310.parquet\n",
      "Signal threshold: 3\n",
      "Loading predictions from ./results/deeplob/predictions_deeplob_single_parallel_f1_0_20250305_20250310.parquet\n",
      "Loaded data shape: (2784801, 4)\n",
      "Time range: 2025-03-05 00:00:00.980656640 - 2025-03-09 23:59:27.416447488\n",
      "Preprocessing data...\n",
      "Data preprocessing complete.\n",
      "Generating trades with signal threshold: 3...\n",
      "Generated 96066 trades\n",
      "\n",
      "Trading Strategy Results:\n",
      "========================\n",
      "Total trades: 96066\n",
      "Winning trades: 27922 (29.07%)\n",
      "Total return: 10.26%\n",
      "Average return per trade: 0.00%\n",
      "Average trade duration: 3.03 seconds\n",
      "Median trade duration: 2.10 seconds\n",
      "Sharpe ratio: 7.43\n",
      "Maximum drawdown: -8.19%\n",
      "Buy and Hold Return: -7.59%\n",
      "Strategy Outperformance: 17.84%\n",
      "Összes kereskedés száma: 96066\n",
      "Mintavételezés 10000 kereskedésre az egyenletes megjelenítés érdekében...\n",
      "Mintavételezett kereskedések száma: 10674\n",
      "Előkészítési idő: 0.00s\n",
      "A teljes hozam az összes kereskedésre: 10.54%\n",
      "Interaktív ábra mentve: ./results/visualizations/trading_strategy.html (2.75s)\n"
     ]
    }
   ],
   "source": [
    "import os\n",
    "\n",
    "# A trading_strategy_visualization modul importálása\n",
    "from V_trading_strategy_visualization import load_and_visualize_strategy\n",
    "\n",
    "# Debug mode parameters - ezeket tetszőlegesen módosíthatod\n",
    "start_date = \"20250305\"  # Módosítható paraméter\n",
    "end_date = \"20250310\"    # Módosítható paraméter\n",
    "signal_threshold = 3     # Módosítható paraméter: hány egymás utáni jelzés szükséges a kereskedéshez\n",
    "\n",
    "# Relatív elérési út használata\n",
    "predictions_file = f\"./results/deeplob/predictions_deeplob_single_parallel_f1_0_{start_date}_{end_date}.parquet\"\n",
    "print(f\"Using prediction file: {predictions_file}\")\n",
    "print(f\"Signal threshold: {signal_threshold}\")\n",
    "\n",
    "# Automatikus mentés HTML formátumban\n",
    "output_dir = \"./results/visualizations\"\n",
    "os.makedirs(output_dir, exist_ok=True)\n",
    "\n",
    "# HTML mentés (interaktív)\n",
    "html_path = os.path.join(output_dir, f\"trading_strategy_signal{signal_threshold}_{start_date}_{end_date}.html\")\n",
    "\n",
    "# Stratégia betöltése és vizualizálása mintavételezett kereskedésekkel\n",
    "fig = load_and_visualize_strategy(\n",
    "    predictions_file=\"./results/deeplob/predictions_deeplob_single_parallel_f1_0_20250305_20250310.parquet\",\n",
    "    signal_threshold=3,\n",
    "    save_path=\"./results/visualizations/trading_strategy.html\",\n",
    "    max_trades=10000  # Maximálisan megjelenítendő kereskedések száma\n",
    ")"
   ]
  }
 ],
 "metadata": {
  "kernelspec": {
   "display_name": "rapids-25.02",
   "language": "python",
   "name": "python3"
  },
  "language_info": {
   "codemirror_mode": {
    "name": "ipython",
    "version": 3
   },
   "file_extension": ".py",
   "mimetype": "text/x-python",
   "name": "python",
   "nbconvert_exporter": "python",
   "pygments_lexer": "ipython3",
   "version": "3.10.16"
  }
 },
 "nbformat": 4,
 "nbformat_minor": 5
}
