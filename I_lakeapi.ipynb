{
 "cells": [
  {
   "cell_type": "markdown",
   "id": "03bc42c0",
   "metadata": {},
   "source": [
    "# 0. Step: Download the limit order book data from LakeAPI ───────────────────────────────────────────────────────────────────"
   ]
  },
  {
   "cell_type": "code",
   "execution_count": null,
   "id": "f8032699",
   "metadata": {},
   "outputs": [],
   "source": [
    "import datetime as dt\n",
    "import lakeapi\n",
    "import pandas as pd\n",
    "import numpy as np\n",
    "import os, re, datetime as dt"
   ]
  },
  {
   "cell_type": "code",
   "execution_count": 4,
   "id": "70f31a86",
   "metadata": {},
   "outputs": [],
   "source": [
    "start_date = dt.datetime(2024,10,15)\n",
    "end_date  = dt.datetime(2024,10,31)\n",
    "symbol = \"BTC-USDT\" #spot\n",
    "exchange = \"BINANCE\""
   ]
  },
  {
   "cell_type": "code",
   "execution_count": 3,
   "id": "15541d9b",
   "metadata": {},
   "outputs": [
    {
     "name": "stderr",
     "output_type": "stream",
     "text": [
      "100%|██████████| 16/16 [00:03<00:00,  5.04it/s]\n"
     ]
    },
    {
     "name": "stdout",
     "output_type": "stream",
     "text": [
      "Mentés kész: data/book_btc_usdt_20241015_20241031.parquet\n"
     ]
    }
   ],
   "source": [
    "df_book = lakeapi.load_data(\n",
    "    table     = \"book\",\n",
    "    start     = start_date,\n",
    "    end       = end_date,\n",
    "    symbols   = [symbol],\n",
    "    exchanges = [exchange],\n",
    ")\n",
    "\n",
    "# # ─── 3. DINAMIKUS FÁJLNÉV ──────────────────────────────────────────────────────\n",
    "file_name = (\n",
    "    f\"data/book_{symbol.lower().replace('-', '_')}_\"\n",
    "    f\"{start_date:%Y%m%d}_{end_date:%Y%m%d}.parquet\"\n",
    ")\n",
    "\n",
    "# # ─── 4. MENTÉS PARQUET-BE cudf használatával ─────────────────────────────────────────\n",
    "df_book.to_parquet(\n",
    "    file_name,\n",
    "    engine=\"pyarrow\",    # cuDF támogatja a pyarrow és fastparquet engine-t\n",
    "    compression=\"snappy\",\n",
    ")\n",
    "\n",
    "print(f\"Mentés kész: {file_name}\")\n"
   ]
  },
  {
   "cell_type": "markdown",
   "id": "97d3149a",
   "metadata": {},
   "source": [
    "### What is `table=\"book\"`?  \n",
    "I’m requesting the **limit‐order‐book** table at **6 Hz** sampling rate with **20 price levels** on each side (bid/ask). Each snapshot contains **40 features**: 20 bid prices & sizes plus 20 ask prices & sizes, timestamped roughly six times per second.\n",
    "\n",
    "---\n",
    "\n",
    "### Why Parquet + PyArrow + Snappy?  \n",
    "\n",
    "- **Parquet**  \n",
    "  I choose Parquet because its columnar on-disk format lets me read only the columns I need, speeding up scans on wide tables.\n",
    "\n",
    "- **PyArrow engine**  \n",
    "  The PyArrow engine in cuDF/pandas leverages Apache Arrow’s zero-copy memory model, minimizing host↔device transfers when I work on GPU.\n",
    "\n",
    "- **Snappy compression**  \n",
    "  Snappy compression gives me very fast decompression with a reasonable compression ratio, so I get **fast I/O** and **smaller files**—perfect for iterating on large LOB datasets.\n"
   ]
  },
  {
   "cell_type": "markdown",
   "id": "4a5c6631",
   "metadata": {},
   "source": []
  }
 ],
 "metadata": {
  "kernelspec": {
   "display_name": "rapids-25.02",
   "language": "python",
   "name": "python3"
  },
  "language_info": {
   "codemirror_mode": {
    "name": "ipython",
    "version": 3
   },
   "file_extension": ".py",
   "mimetype": "text/x-python",
   "name": "python",
   "nbconvert_exporter": "python",
   "pygments_lexer": "ipython3",
   "version": "3.10.16"
  }
 },
 "nbformat": 4,
 "nbformat_minor": 5
}
