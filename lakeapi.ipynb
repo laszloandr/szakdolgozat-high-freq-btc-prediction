{
 "cells": [
  {
   "cell_type": "markdown",
   "id": "03bc42c0",
   "metadata": {},
   "source": []
  },
  {
   "cell_type": "code",
   "execution_count": 1,
   "id": "f8032699",
   "metadata": {},
   "outputs": [
    {
     "name": "stderr",
     "output_type": "stream",
     "text": [
      "/home/andras/miniconda3/envs/rapids-25.02/lib/python3.10/site-packages/tqdm/auto.py:21: TqdmWarning: IProgress not found. Please update jupyter and ipywidgets. See https://ipywidgets.readthedocs.io/en/stable/user_install.html\n",
      "  from .autonotebook import tqdm as notebook_tqdm\n"
     ]
    }
   ],
   "source": [
    "import datetime as dt\n",
    "import lakeapi\n",
    "import cudf\n",
    "import pandas as pd\n",
    "import numpy as np\n",
    "import os, re, datetime as dt\n",
    "import cudf, cupy as cp\n",
    "from typing import Sequence"
   ]
  },
  {
   "cell_type": "code",
   "execution_count": 2,
   "id": "70f31a86",
   "metadata": {},
   "outputs": [],
   "source": [
    "start_date = dt.datetime(2024,10,15)\n",
    "end_date  = dt.datetime(2024,10,31)\n",
    "symbol = \"BTC-USDT\" #spot\n",
    "exchange = \"BINANCE\""
   ]
  },
  {
   "cell_type": "code",
   "execution_count": 3,
   "id": "15541d9b",
   "metadata": {},
   "outputs": [
    {
     "name": "stderr",
     "output_type": "stream",
     "text": [
      "100%|██████████| 16/16 [00:03<00:00,  5.04it/s]\n"
     ]
    },
    {
     "name": "stdout",
     "output_type": "stream",
     "text": [
      "Mentés kész: data/book_btc_usdt_20241015_20241031.parquet\n"
     ]
    }
   ],
   "source": [
    "df_book = lakeapi.load_data(\n",
    "    table     = \"book\",\n",
    "    start     = start_date,\n",
    "    end       = end_date,\n",
    "    symbols   = [symbol],\n",
    "    exchanges = [exchange],\n",
    ")\n",
    "\n",
    "# # ─── 3. DINAMIKUS FÁJLNÉV ──────────────────────────────────────────────────────\n",
    "file_name = (\n",
    "    f\"data/book_{symbol.lower().replace('-', '_')}_\"\n",
    "    f\"{start_date:%Y%m%d}_{end_date:%Y%m%d}.parquet\"\n",
    ")\n",
    "\n",
    "# # ─── 4. MENTÉS PARQUET-BE cudf használatával ─────────────────────────────────────────\n",
    "df_book.to_parquet(\n",
    "    file_name,\n",
    "    engine=\"pyarrow\",    # cuDF támogatja a pyarrow és fastparquet engine-t\n",
    "    compression=\"snappy\",\n",
    ")\n",
    "\n",
    "print(f\"Mentés kész: {file_name}\")\n"
   ]
  },
  {
   "cell_type": "markdown",
   "id": "7ac0adc4",
   "metadata": {},
   "source": [
    "## Qualitry report"
   ]
  },
  {
   "cell_type": "code",
   "execution_count": null,
   "id": "951ddaf2",
   "metadata": {},
   "outputs": [],
   "source": []
  },
  {
   "cell_type": "code",
   "execution_count": null,
   "id": "a47d8615",
   "metadata": {},
   "outputs": [
    {
     "name": "stdout",
     "output_type": "stream",
     "text": [
      "\n",
      "[GPU stream report]   BTC-USDT\n",
      "    idősáv: 2024-09-15 00:00:00  →  2024-09-30 00:00:00\n",
      "\n",
      "Origin_time:   1970-01-01T00:00:00.000000000  →  2024-09-29T23:59:59.813999872\n",
      "Received_time: 2024-09-15T00:00:00.035323648  →  2024-09-29T23:59:59.816357888\n",
      "Records: 8,786,231\n",
      "Avg rec/s: 6.78\n",
      "\n",
      "Largest gap: 8.99 s\n",
      "Gap start  : 2024-09-17 06:10:01.916381696\n",
      "\n",
      "Missing whole seconds: 76\n",
      "\n"
     ]
    }
   ],
   "source": []
  },
  {
   "cell_type": "code",
   "execution_count": null,
   "id": "ac4616fd",
   "metadata": {},
   "outputs": [
    {
     "name": "stdout",
     "output_type": "stream",
     "text": [
      "Data shape: (8786231, 85)\n",
      "Features analyzed: 80\n",
      "         feature side  level metric  missing_%  zeros_%          min  \\\n",
      "0    bid_0_price  bid      0  price        0.0      0.0  57493.30000   \n",
      "1     bid_0_size  bid      0   size        0.0      0.0      0.00001   \n",
      "2    bid_1_price  bid      1  price        0.0      0.0  57493.22000   \n",
      "3     bid_1_size  bid      1   size        0.0      0.0      0.00001   \n",
      "4    bid_2_price  bid      2  price        0.0      0.0  57493.21000   \n",
      "..           ...  ...    ...    ...        ...      ...          ...   \n",
      "75   ask_17_size  ask     17   size        0.0      0.0      0.00001   \n",
      "76  ask_18_price  ask     18  price        0.0      0.0  57498.97000   \n",
      "77   ask_18_size  ask     18   size        0.0      0.0      0.00001   \n",
      "78  ask_19_price  ask     19  price        0.0      0.0  57499.00000   \n",
      "79   ask_19_size  ask     19   size        0.0      0.0      0.00001   \n",
      "\n",
      "            p01          p25        median           p75           p99  \\\n",
      "0   57793.99000  60340.61750  63210.000000  64360.000000  66067.990000   \n",
      "1       0.00994      1.09789      3.122975      5.558357     14.019211   \n",
      "2   57793.66990  60340.05000  63209.990000  64359.970000  66067.970000   \n",
      "3       0.00009      0.00010      0.000300      0.031740      1.315120   \n",
      "4   57793.40000  60340.01000  63209.980000  64359.910000  66067.950000   \n",
      "..          ...          ...           ...           ...           ...   \n",
      "75      0.00008      0.00062      0.049040      0.156700      0.892102   \n",
      "76  57798.00000  60345.28000  63214.000000  64363.210000  66070.190000   \n",
      "77      0.00008      0.00062      0.049040      0.156460      0.885440   \n",
      "78  57798.22000  60345.64000  63214.075000  64363.500000  66070.730200   \n",
      "79      0.00008      0.00062      0.050000      0.156863      0.891500   \n",
      "\n",
      "            max          mean          std        cv  \n",
      "0   66487.17000  62725.951753  2378.930181  0.037926  \n",
      "1     141.34997      3.834262     3.999079  1.042985  \n",
      "2   66486.69000  62725.821376  2378.950335  0.037926  \n",
      "3      54.00527      0.101498     0.462983  4.561494  \n",
      "4   66479.00000  62725.683151  2378.960842  0.037926  \n",
      "..          ...           ...          ...       ...  \n",
      "75    115.07041      0.132080     0.591833  4.480867  \n",
      "76  66498.48000  62729.665312  2378.835559  0.037922  \n",
      "77    140.10280      0.132300     0.627658  4.744214  \n",
      "78  66498.49000  62729.898914  2378.839747  0.037922  \n",
      "79    140.10280      0.134384     0.726638  5.407185  \n",
      "\n",
      "[80 rows x 16 columns]\n"
     ]
    }
   ],
   "source": []
  },
  {
   "cell_type": "code",
   "execution_count": null,
   "id": "80fdf40a",
   "metadata": {},
   "outputs": [],
   "source": []
  }
 ],
 "metadata": {
  "kernelspec": {
   "display_name": "rapids-25.02",
   "language": "python",
   "name": "python3"
  },
  "language_info": {
   "codemirror_mode": {
    "name": "ipython",
    "version": 3
   },
   "file_extension": ".py",
   "mimetype": "text/x-python",
   "name": "python",
   "nbconvert_exporter": "python",
   "pygments_lexer": "ipython3",
   "version": "3.10.16"
  }
 },
 "nbformat": 4,
 "nbformat_minor": 5
}
